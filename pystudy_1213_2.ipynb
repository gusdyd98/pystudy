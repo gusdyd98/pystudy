{
 "cells": [
  {
   "cell_type": "markdown",
   "metadata": {},
   "source": [
    "#파일 열고 닫기"
   ]
  },
  {
   "cell_type": "code",
   "execution_count": 9,
   "metadata": {},
   "outputs": [
    {
     "name": "stdout",
     "output_type": "stream",
     "text": [
      "<_io.TextIOWrapper name='text.txt' mode='r' encoding='cp949'>\n",
      "<_io.BufferedReader name='C:/Users/gusdyd98/Documents/GitHub/pystudy/myimages/Chrysanthemum.jpg'>\n"
     ]
    }
   ],
   "source": [
    "f1=open('text.txt', 'r')\n",
    "f2=open('C:/Users/gusdyd98/Documents/GitHub/pystudy/myimages/Chrysanthemum.jpg','rb')\n",
    "\n",
    "\n",
    "print(f1)\n",
    "print(f2)\n",
    "\n",
    "f1.close()\n",
    "f2.close()"
   ]
  },
  {
   "cell_type": "markdown",
   "metadata": {},
   "source": [
    "#클래스 이해하기(class)"
   ]
  },
  {
   "cell_type": "code",
   "execution_count": 10,
   "metadata": {},
   "outputs": [
    {
     "name": "stdout",
     "output_type": "stream",
     "text": [
      "안녕하세요\n",
      "안녕하세요\n"
     ]
    }
   ],
   "source": [
    "class MyClass:\n",
    "    var ='안녕하세요'\n",
    "    def sayHello(self):\n",
    "        print(self.var)\n",
    "        \n",
    "obj=MyClass()\n",
    "print(obj.var)\n",
    "obj.sayHello()"
   ]
  },
  {
   "cell_type": "markdown",
   "metadata": {},
   "source": [
    "#클래스 생성자"
   ]
  },
  {
   "cell_type": "code",
   "execution_count": 11,
   "metadata": {},
   "outputs": [
    {
     "name": "stdout",
     "output_type": "stream",
     "text": [
      "MyClass 인스턴스 객체가 생성되었습니다.\n",
      "안녕하세요\n"
     ]
    }
   ],
   "source": [
    "class MyClass:\n",
    "    def __init__(self):\n",
    "        self.var='안녕하세요'\n",
    "        print('MyClass 인스턴스 객체가 생성되었습니다.')\n",
    "        \n",
    "obj=MyClass()\n",
    "print(obj.var)"
   ]
  },
  {
   "cell_type": "markdown",
   "metadata": {},
   "source": [
    "#클래스 소멸자"
   ]
  },
  {
   "cell_type": "code",
   "execution_count": 12,
   "metadata": {},
   "outputs": [
    {
     "name": "stdout",
     "output_type": "stream",
     "text": [
      "MyClass 인스턴스 객체가 메모리에서 제거됩니다.\n"
     ]
    }
   ],
   "source": [
    "class MyClass:\n",
    "    def __del__(sefl):\n",
    "        print('MyClass 인스턴스 객체가 메모리에서 제거됩니다.')\n",
    "\n",
    "obj=MyClass()\n",
    "del obj\n"
   ]
  },
  {
   "cell_type": "markdown",
   "metadata": {},
   "source": [
    "#클래스 상속"
   ]
  },
  {
   "cell_type": "code",
   "execution_count": 13,
   "metadata": {},
   "outputs": [
    {
     "name": "stdout",
     "output_type": "stream",
     "text": [
      "3\n",
      "-1\n"
     ]
    }
   ],
   "source": [
    "class Add:\n",
    "    def add(self, n1, n2):\n",
    "        return n1+n2\n",
    "\n",
    "class Calculator(Add):\n",
    "    def sub(self, n1, n2):\n",
    "        return n1-n2\n",
    "    \n",
    "obj=Calculator()\n",
    "print(obj.add(1,2))\n",
    "print(obj.sub(1,2))"
   ]
  },
  {
   "cell_type": "code",
   "execution_count": null,
   "metadata": {},
   "outputs": [],
   "source": []
  }
 ],
 "metadata": {
  "kernelspec": {
   "display_name": "Python 3",
   "language": "python",
   "name": "python3"
  },
  "language_info": {
   "codemirror_mode": {
    "name": "ipython",
    "version": 3
   },
   "file_extension": ".py",
   "mimetype": "text/x-python",
   "name": "python",
   "nbconvert_exporter": "python",
   "pygments_lexer": "ipython3",
   "version": "3.8.5"
  }
 },
 "nbformat": 4,
 "nbformat_minor": 4
}
