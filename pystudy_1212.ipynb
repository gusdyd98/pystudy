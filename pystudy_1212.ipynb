{
 "cells": [
  {
   "cell_type": "markdown",
   "metadata": {},
   "source": [
    "#if문"
   ]
  },
  {
   "cell_type": "code",
   "execution_count": 1,
   "metadata": {},
   "outputs": [
    {
     "name": "stdout",
     "output_type": "stream",
     "text": [
      "x가 y보다 작습니다.\n"
     ]
    }
   ],
   "source": [
    "x=1\n",
    "y=2\n",
    "if x>y:\n",
    "    print('x가 y보다 큽니다.')\n",
    "elif x<y:\n",
    "    print('x가 y보다 작습니다.')\n",
    "else:\n",
    "    print('x와 y가 같습니다.')\n"
   ]
  },
  {
   "cell_type": "markdown",
   "metadata": {},
   "source": [
    "#for문"
   ]
  },
  {
   "cell_type": "code",
   "execution_count": 5,
   "metadata": {},
   "outputs": [
    {
     "name": "stdout",
     "output_type": "stream",
     "text": [
      "1\n",
      "2\n",
      "3\n",
      "4\n"
     ]
    }
   ],
   "source": [
    "scope = [1,2,3,4]\n",
    "for x in scope:\n",
    "    print(x)\n",
    "    "
   ]
  },
  {
   "cell_type": "code",
   "execution_count": 6,
   "metadata": {},
   "outputs": [
    {
     "name": "stdout",
     "output_type": "stream",
     "text": [
      "a\n",
      "b\n",
      "c\n",
      "d\n",
      "e\n",
      "f\n"
     ]
    }
   ],
   "source": [
    "str='abcdef'\n",
    "for c in str:\n",
    "    print(c)"
   ]
  },
  {
   "cell_type": "code",
   "execution_count": 7,
   "metadata": {},
   "outputs": [
    {
     "name": "stdout",
     "output_type": "stream",
     "text": [
      "a\n",
      "b\n",
      "c\n"
     ]
    }
   ],
   "source": [
    "ascii_codes={'a':97, 'b':98, 'c':99}\n",
    "for c in ascii_codes:\n",
    "    print(c)"
   ]
  },
  {
   "cell_type": "code",
   "execution_count": 8,
   "metadata": {},
   "outputs": [
    {
     "name": "stdout",
     "output_type": "stream",
     "text": [
      "0\n",
      "1\n",
      "2\n",
      "3\n",
      "4\n",
      "5\n",
      "6\n",
      "7\n",
      "8\n",
      "9\n"
     ]
    }
   ],
   "source": [
    "for c in range(10):\n",
    "    print(c)"
   ]
  },
  {
   "cell_type": "markdown",
   "metadata": {},
   "source": [
    "#for ~ continue ~ break"
   ]
  },
  {
   "cell_type": "code",
   "execution_count": 9,
   "metadata": {},
   "outputs": [
    {
     "name": "stdout",
     "output_type": "stream",
     "text": [
      "1\n",
      "2\n",
      "3\n"
     ]
    }
   ],
   "source": [
    "scope=[1,2,3,4,5]\n",
    "for x in scope:\n",
    "    print(x)\n",
    "    if x<3:\n",
    "        continue\n",
    "    else:\n",
    "        break\n",
    "        "
   ]
  },
  {
   "cell_type": "markdown",
   "metadata": {},
   "source": [
    "#for ~ else"
   ]
  },
  {
   "cell_type": "code",
   "execution_count": 13,
   "metadata": {},
   "outputs": [
    {
     "name": "stdout",
     "output_type": "stream",
     "text": [
      "1\n",
      "2\n",
      "3\n",
      "Perfect\n"
     ]
    }
   ],
   "source": [
    "scope=[1,2,3,]\n",
    "for x in scope:\n",
    "    print(x)\n",
    "    #break\n",
    "else:\n",
    "    print('Perfect')"
   ]
  },
  {
   "cell_type": "markdown",
   "metadata": {},
   "source": [
    "#while문"
   ]
  },
  {
   "cell_type": "code",
   "execution_count": 14,
   "metadata": {},
   "outputs": [
    {
     "name": "stdout",
     "output_type": "stream",
     "text": [
      "3\n",
      "4\n",
      "5\n",
      "6\n",
      "7\n",
      "8\n"
     ]
    }
   ],
   "source": [
    "x=0\n",
    "while x<10:\n",
    "    x=x+1\n",
    "    if x<3:\n",
    "        continue\n",
    "    print(x)\n",
    "    if x>7:\n",
    "        break"
   ]
  },
  {
   "cell_type": "markdown",
   "metadata": {},
   "source": [
    "#None 개념"
   ]
  },
  {
   "cell_type": "code",
   "execution_count": 15,
   "metadata": {},
   "outputs": [],
   "source": [
    "val=None\n",
    "condition=1\n",
    "if condition == 1:\n",
    "    val=[1,2,3]\n",
    "else:\n",
    "    val='I love Python'"
   ]
  },
  {
   "cell_type": "code",
   "execution_count": 16,
   "metadata": {},
   "outputs": [
    {
     "data": {
      "text/plain": [
       "[1, 2, 3]"
      ]
     },
     "execution_count": 16,
     "metadata": {},
     "output_type": "execute_result"
    }
   ],
   "source": [
    "val"
   ]
  },
  {
   "cell_type": "markdown",
   "metadata": {},
   "source": [
    "None은 Types.NoneType의 유일한 값으로, 값이 존재하지 않는 변수에 대입하여 이 변수에 아무런 값이 없다는 것을 나타내기 위해 주로 활용된다."
   ]
  },
  {
   "cell_type": "markdown",
   "metadata": {},
   "source": [
    "#사칙연산자 이해하기"
   ]
  },
  {
   "cell_type": "code",
   "execution_count": 18,
   "metadata": {},
   "outputs": [
    {
     "name": "stdout",
     "output_type": "stream",
     "text": [
      "6\n",
      "-2\n",
      "8\n",
      "0.5\n",
      "16\n",
      "6.0\n",
      "-12\n",
      "32\n"
     ]
    }
   ],
   "source": [
    "a=2\n",
    "b=4\n",
    "ret1=a+b    \n",
    "ret2=a-b\n",
    "ret3=a*b\n",
    "ret4=a/b\n",
    "ret5=a**b\n",
    "ret6=a+a*b/a\n",
    "ret7=(a+b)*(a-b)\n",
    "ret8=a*b**a\n",
    "\n",
    "print(ret1)\n",
    "print(ret2)\n",
    "print(ret3)\n",
    "print(ret4)\n",
    "print(ret5)\n",
    "print(ret6)\n",
    "print(ret7)\n",
    "print(ret8)\n"
   ]
  },
  {
   "cell_type": "markdown",
   "metadata": {},
   "source": [
    "#연산자 축약 이해하기 (+=, -=, *=, /=)"
   ]
  },
  {
   "cell_type": "code",
   "execution_count": 19,
   "metadata": {},
   "outputs": [
    {
     "name": "stdout",
     "output_type": "stream",
     "text": [
      "0\n",
      "1\n",
      "-4\n",
      "-8\n",
      "-2.0\n"
     ]
    }
   ],
   "source": [
    "a=0\n",
    "print(a)\n",
    "a+=1\n",
    "print(a)\n",
    "a-=5\n",
    "print(a)\n",
    "a*=2\n",
    "print(a)\n",
    "a/=4\n",
    "print(a)\n"
   ]
  },
  {
   "cell_type": "markdown",
   "metadata": {},
   "source": [
    "#시퀀스 자료 인덱싱 이해하기"
   ]
  },
  {
   "cell_type": "code",
   "execution_count": 20,
   "metadata": {},
   "outputs": [
    {
     "name": "stdout",
     "output_type": "stream",
     "text": [
      "i\n",
      "!\n",
      "1\n",
      "[1, 2, 3]\n",
      "3\n"
     ]
    }
   ],
   "source": [
    "strdata='Time is money!!'\n",
    "listdata=[1,2,[1,2,3]]\n",
    "print(strdata[5])\n",
    "print(strdata[-2])\n",
    "print(listdata[0])\n",
    "print(listdata[-1])\n",
    "print(listdata[2][-1])"
   ]
  },
  {
   "cell_type": "markdown",
   "metadata": {},
   "source": [
    "#멤버체크 이해하기"
   ]
  },
  {
   "cell_type": "code",
   "execution_count": 21,
   "metadata": {},
   "outputs": [
    {
     "name": "stdout",
     "output_type": "stream",
     "text": [
      "False\n",
      "True\n",
      "True\n",
      "False\n"
     ]
    }
   ],
   "source": [
    "listdata=[1,2,3,4]\n",
    "ret1=5 in listdata\n",
    "print(ret1)\n",
    "ret2=4 in listdata\n",
    "print(ret2)\n",
    "\n",
    "strdata='abcde'\n",
    "ret3='c' in strdata\n",
    "print(ret3)\n",
    "ret4='l' in strdata\n",
    "print(ret4)\n"
   ]
  },
  {
   "cell_type": "code",
   "execution_count": 22,
   "metadata": {},
   "outputs": [
    {
     "name": "stdout",
     "output_type": "stream",
     "text": [
      "나는 파이썬 프로그래머다\n",
      "You are a programmer\n",
      "I love\n",
      "    python. You love\n",
      "python too!\n",
      "\n",
      "My son's name is John\n",
      "문자열\"abd\"의 길이는 3입니다.\n"
     ]
    }
   ],
   "source": [
    "strdata1='나는 파이썬 프로그래머다'\n",
    "strdata2=\"You are a programmer\"\n",
    "strdata3=\"\"\"I love\n",
    "    python. You love\n",
    "python too!\n",
    "\"\"\"\n",
    "strdata4=\"My son's name is John\"\n",
    "strdata5='문자열\"abd\"의 길이는 3입니다.'\n",
    "\n",
    "print(strdata1)\n",
    "print(strdata2)\n",
    "print(strdata3)\n",
    "print(strdata4)\n",
    "print(strdata5)"
   ]
  },
  {
   "cell_type": "markdown",
   "metadata": {},
   "source": [
    "#문자열 포맷팅"
   ]
  },
  {
   "cell_type": "code",
   "execution_count": 23,
   "metadata": {},
   "outputs": [
    {
     "name": "stdout",
     "output_type": "stream",
     "text": [
      "나는 자바보다 파이썬에 더 익숙합니다.\n",
      "파이썬은 자바보다 5배 더 쉽습니다.\n",
      "5+10=15\n",
      "작년 세계 경재 성장률은 전년에 비해 5%포인트 증가했다.\n"
     ]
    }
   ],
   "source": [
    "txt1='자바'; txt2='파이썬'\n",
    "num1=5; num2=10\n",
    "print('나는 %s보다 %s에 더 익숙합니다.' %(txt1, txt2))\n",
    "print('%s은 %s보다 %d배 더 쉽습니다.' %(txt2, txt1, num1))\n",
    "print('%d+%d=%d' %(num1, num2, num1+num2))\n",
    "print('작년 세계 경재 성장률은 전년에 비해 %d%%포인트 증가했다.' %num1)"
   ]
  },
  {
   "cell_type": "markdown",
   "metadata": {},
   "source": [
    "포맷 문자열 |  설명\n",
    "\n",
    "--------------------------\n",
    "\n",
    "%s               | 문자열에 대응됨\n",
    "\n",
    "%c               | 문자나 기호 한 개에 대응됨\n",
    "\n",
    "%f               | 실수에 대응됨\n",
    "\n",
    "%d               | 정수에 대응됨\n",
    "\n",
    "%%               | '%'라는 기호 자체를 표시함"
   ]
  },
  {
   "cell_type": "markdown",
   "metadata": {},
   "source": [
    "#함수의 이해(def)"
   ]
  },
  {
   "cell_type": "code",
   "execution_count": 24,
   "metadata": {},
   "outputs": [
    {
     "name": "stdout",
     "output_type": "stream",
     "text": [
      "25\n",
      "대한민국~만세!!\n"
     ]
    }
   ],
   "source": [
    "def add_number(n1, n2):\n",
    "    ret=n1+n2\n",
    "    return ret\n",
    "\n",
    "def add_txt(t1, t2):\n",
    "    print(t1+t2)\n",
    "\n",
    "ans=add_number(10,15)\n",
    "print(ans)\n",
    "\n",
    "text1='대한민국~'\n",
    "text2='만세!!'\n",
    "add_txt(text1, text2)"
   ]
  },
  {
   "cell_type": "markdown",
   "metadata": {},
   "source": [
    "#함수 인자 이해하기"
   ]
  },
  {
   "cell_type": "code",
   "execution_count": 25,
   "metadata": {},
   "outputs": [
    {
     "name": "stdout",
     "output_type": "stream",
     "text": [
      "베스트:파이썬\n",
      "1등:대한민국\n",
      "()\n",
      "(3, 5, 1, 5)\n",
      "{}\n",
      "{'depth': 50, 'color': 'blue'}\n"
     ]
    }
   ],
   "source": [
    "def add_txt(t1, t2='파이썬'):\n",
    "    print(t1+':'+t2)\n",
    "\n",
    "add_txt('베스트')\n",
    "add_txt(t2='대한민국', t1='1등')\n",
    "\n",
    "def func1(*args):\n",
    "    print(args)\n",
    "\n",
    "def func2(width, height, **kwargs):\n",
    "    print(kwargs)\n",
    "    \n",
    "func1()\n",
    "func1(3,5,1,5)\n",
    "func2(10,20)\n",
    "func2(10,20,depth=50, color='blue')"
   ]
  },
  {
   "cell_type": "markdown",
   "metadata": {},
   "source": [
    "#지역변수, 전역변수 이해하기"
   ]
  },
  {
   "cell_type": "code",
   "execution_count": 26,
   "metadata": {},
   "outputs": [
    {
     "name": "stdout",
     "output_type": "stream",
     "text": [
      "지역변수\n",
      "전역변수\n",
      "10\n",
      "10\n",
      "50\n"
     ]
    }
   ],
   "source": [
    "param=10\n",
    "strdata='전역변수'\n",
    "\n",
    "def func():\n",
    "    strdata='지역변수'\n",
    "    print(strdata)\n",
    "    \n",
    "def func2(param):\n",
    "    param=1\n",
    "    \n",
    "def func3():\n",
    "    global param\n",
    "    param=50\n",
    "    \n",
    "func()\n",
    "print(strdata)\n",
    "print(param)\n",
    "func2(param)\n",
    "print(param)\n",
    "func3()\n",
    "print(param)"
   ]
  },
  {
   "cell_type": "code",
   "execution_count": null,
   "metadata": {},
   "outputs": [],
   "source": []
  }
 ],
 "metadata": {
  "kernelspec": {
   "display_name": "Python 3",
   "language": "python",
   "name": "python3"
  },
  "language_info": {
   "codemirror_mode": {
    "name": "ipython",
    "version": 3
   },
   "file_extension": ".py",
   "mimetype": "text/x-python",
   "name": "python",
   "nbconvert_exporter": "python",
   "pygments_lexer": "ipython3",
   "version": "3.7.4"
  }
 },
 "nbformat": 4,
 "nbformat_minor": 2
}
