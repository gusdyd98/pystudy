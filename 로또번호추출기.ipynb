{
 "cells": [
  {
   "cell_type": "code",
   "execution_count": 3,
   "metadata": {},
   "outputs": [
    {
     "name": "stdout",
     "output_type": "stream",
     "text": [
      "로또 게임 회수를 입력하세요:3\n",
      "로또번호[1]: [2, 11, 14, 25, 33, 43]\n",
      "로또번호[2]: [5, 10, 17, 24, 32, 35]\n",
      "로또번호[3]: [13, 20, 22, 26, 32, 44]\n"
     ]
    }
   ],
   "source": [
    "from random import shuffle\n",
    "from time import sleep\n",
    "\n",
    "gamenum = input('로또 게임 회수를 입력하세요:')\n",
    "\n",
    "for i in range(int(gamenum)):\n",
    "    balls=[x+1 for x in range(45)]\n",
    "    ret=[]\n",
    "    for j in range(6):\n",
    "        shuffle(balls)\n",
    "        number=balls.pop()\n",
    "        ret.append(number)\n",
    "    ret.sort()\n",
    "    print('로또번호[%d]: %s' % (i+1, ret))\n",
    "    sleep(1)"
   ]
  },
  {
   "cell_type": "code",
   "execution_count": null,
   "metadata": {},
   "outputs": [],
   "source": []
  }
 ],
 "metadata": {
  "kernelspec": {
   "display_name": "Python 3",
   "language": "python",
   "name": "python3"
  },
  "language_info": {
   "codemirror_mode": {
    "name": "ipython",
    "version": 3
   },
   "file_extension": ".py",
   "mimetype": "text/x-python",
   "name": "python",
   "nbconvert_exporter": "python",
   "pygments_lexer": "ipython3",
   "version": "3.8.5"
  }
 },
 "nbformat": 4,
 "nbformat_minor": 4
}
