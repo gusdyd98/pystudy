{
 "cells": [
  {
   "cell_type": "markdown",
   "metadata": {},
   "source": [
    "# 문자열에서 특정 문자(열) 위치 찾기(find)"
   ]
  },
  {
   "cell_type": "code",
   "execution_count": 1,
   "metadata": {},
   "outputs": [
    {
     "name": "stdout",
     "output_type": "stream",
     "text": [
      "22\n",
      "27\n",
      "38\n"
     ]
    }
   ],
   "source": [
    "txt='A lot of things occur each day, every day.'\n",
    "offset1=txt.find('e')\n",
    "offset2=txt.find('day')\n",
    "offset3=txt.find('day', 30)\n",
    "print(offset1)\n",
    "print(offset2)\n",
    "print(offset3)\n"
   ]
  },
  {
   "cell_type": "code",
   "execution_count": 2,
   "metadata": {},
   "outputs": [
    {
     "name": "stdout",
     "output_type": "stream",
     "text": [
      "['http:', '', 'www.naver.com', 'news', 'today=20160831']\n",
      "name -> 홍길동\n",
      "age -> 17\n",
      "sex -> 남자\n",
      "nation -> 조선\n"
     ]
    }
   ],
   "source": [
    "url='http://www.naver.com/news/today=20160831'\n",
    "log='name:홍길동 age:17 sex:남자 nation:조선'\n",
    "\n",
    "ret1=url.split('/')\n",
    "print(ret1)\n",
    "\n",
    "ret2=log.split()\n",
    "for data in ret2:\n",
    "    d1, d2=data.split(':')\n",
    "    print('%s -> %s'%(d1, d2))"
   ]
  },
  {
   "cell_type": "markdown",
   "metadata": {},
   "source": [
    "# 문자열을 특정 문자(열)로 결합하기(join)"
   ]
  },
  {
   "cell_type": "code",
   "execution_count": 3,
   "metadata": {},
   "outputs": [
    {
     "name": "stdout",
     "output_type": "stream",
     "text": [
      "2016/08/26 10:12:11;200;OK;이 또한 지나가리라\n"
     ]
    }
   ],
   "source": [
    "loglist=['2016/08/26 10:12:11', '200', 'OK', '이 또한 지나가리라']\n",
    "bond=';'\n",
    "log=bond.join(loglist)\n",
    "print(log)"
   ]
  },
  {
   "cell_type": "markdown",
   "metadata": {},
   "source": [
    "# 문자열을 정렬하기(sorted, join)"
   ]
  },
  {
   "cell_type": "code",
   "execution_count": 7,
   "metadata": {},
   "outputs": [
    {
     "name": "stdout",
     "output_type": "stream",
     "text": [
      "정렬할 문자열을 입력하세요:akjgheiuoayr\n",
      "['a', 'a', 'e', 'g', 'h', 'i', 'j', 'k', 'o', 'r', 'u', 'y']\n",
      "['y', 'u', 'r', 'o', 'k', 'j', 'i', 'h', 'g', 'e', 'a', 'a']\n",
      "오름차순으로 정렬된 문자열은<aaeghijkoruy>입니다.\n",
      "내림차순으로 정렬된 문자열은<yurokjihgeaa>입니다.\n"
     ]
    }
   ],
   "source": [
    "strdata=input('정렬할 문자열을 입력하세요:')\n",
    "ret1=sorted(strdata)\n",
    "ret2=sorted(strdata, reverse=True)\n",
    "print(ret1)\n",
    "print(ret2)\n",
    "\n",
    "ret1=''.join(ret1)\n",
    "ret2=''.join(ret2)\n",
    "\n",
    "print('오름차순으로 정렬된 문자열은<' + ret1 + '>입니다.')\n",
    "print('내림차순으로 정렬된 문자열은<' + ret2 + '>입니다.')"
   ]
  },
  {
   "cell_type": "markdown",
   "metadata": {},
   "source": [
    "# 리스트에서 특정 요소의 위치 구하기 (index)"
   ]
  },
  {
   "cell_type": "code",
   "execution_count": 8,
   "metadata": {},
   "outputs": [
    {
     "name": "stdout",
     "output_type": "stream",
     "text": [
      "지구은(는) 태양계에서 3번째에 위치하고 있습니다.\n",
      "지구은(는) 태양계에서 9번째에 위치하고 있습니다.\n"
     ]
    }
   ],
   "source": [
    "solarsys=['태양', '수성', '금성', '지구', '화성', '목성', '토성', '천왕성', '해왕성', '지구']\n",
    "planet='지구'\n",
    "pos=solarsys.index(planet)\n",
    "print('%s은(는) 태양계에서 %d번째에 위치하고 있습니다.' % (planet, pos))\n",
    "\n",
    "pos=solarsys.index(planet, 5)\n",
    "print('%s은(는) 태양계에서 %d번째에 위치하고 있습니다.' % (planet, pos))"
   ]
  },
  {
   "cell_type": "markdown",
   "metadata": {},
   "source": [
    "# 사전에 요소 추가하기"
   ]
  },
  {
   "cell_type": "code",
   "execution_count": 10,
   "metadata": {},
   "outputs": [
    {
     "name": "stdout",
     "output_type": "stream",
     "text": [
      "{'태양': 'Sun', '수성': 'Mercury', '금성': 'Venus', '지구': 'Earth', '화성': 'Mars', '목성': 'Jupiter', '토성': 'Saturn', '천왕성': 'Uranus', '해왕성': 'Neptune'}\n"
     ]
    }
   ],
   "source": [
    "solar1=['태양', '수성', '금성', '지구', '화성', '목성', '토성', '천왕성', '해왕성']\n",
    "solar2=['Sun', 'Mercury', 'Venus', 'Earth', 'Mars', 'Jupiter', 'Saturn', 'Uranus', 'Neptune']\n",
    "solardict={}\n",
    "for i, k in enumerate(solar1):\n",
    "    val=solar2[i]\n",
    "    solardict[k]=val\n",
    "    \n",
    "print(solardict)"
   ]
  },
  {
   "cell_type": "code",
   "execution_count": null,
   "metadata": {},
   "outputs": [],
   "source": []
  }
 ],
 "metadata": {
  "kernelspec": {
   "display_name": "Python 3",
   "language": "python",
   "name": "python3"
  },
  "language_info": {
   "codemirror_mode": {
    "name": "ipython",
    "version": 3
   },
   "file_extension": ".py",
   "mimetype": "text/x-python",
   "name": "python",
   "nbconvert_exporter": "python",
   "pygments_lexer": "ipython3",
   "version": "3.8.5"
  }
 },
 "nbformat": 4,
 "nbformat_minor": 4
}
