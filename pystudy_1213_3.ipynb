{
 "cells": [
  {
   "cell_type": "markdown",
   "metadata": {},
   "source": [
    "#사용자 입력 받기"
   ]
  },
  {
   "cell_type": "code",
   "execution_count": 1,
   "metadata": {},
   "outputs": [
    {
     "name": "stdout",
     "output_type": "stream",
     "text": [
      "<값>을 입력하세요20\n",
      "당신이 입력한 값은 <20>입니다.\n"
     ]
    }
   ],
   "source": [
    "k=input('<값>을 입력하세요')\n",
    "print('당신이 입력한 값은 <'+k+'>입니다.')"
   ]
  },
  {
   "cell_type": "markdown",
   "metadata": {},
   "source": [
    "#자료형 확인하기"
   ]
  },
  {
   "cell_type": "code",
   "execution_count": 2,
   "metadata": {},
   "outputs": [
    {
     "name": "stdout",
     "output_type": "stream",
     "text": [
      "<class 'int'>\n",
      "<class 'str'>\n",
      "<class 'list'>\n",
      "<class 'dict'>\n",
      "<class 'function'>\n"
     ]
    }
   ],
   "source": [
    "numdata = 57\n",
    "strdata='파이썬'\n",
    "listdata=[1,2,3]\n",
    "dictdata={'a':1, 'b':2}\n",
    "\n",
    "def func():\n",
    "    print('안녕하세요')\n",
    "    \n",
    "print(type(numdata))\n",
    "print(type(strdata))\n",
    "print(type(listdata))\n",
    "print(type(dictdata))\n",
    "print(type(func))"
   ]
  },
  {
   "cell_type": "markdown",
   "metadata": {},
   "source": [
    "#몫과 나머지 구하기"
   ]
  },
  {
   "cell_type": "code",
   "execution_count": 3,
   "metadata": {},
   "outputs": [
    {
     "name": "stdout",
     "output_type": "stream",
     "text": [
      "<11113 23>는 몫이 <483>, 나머지가 <4>입니다.\n"
     ]
    }
   ],
   "source": [
    "a=11113\n",
    "b=23\n",
    "ret1, ret2 = divmod(a,b)\n",
    "print('<%d %d>는 몫이 <%d>, 나머지가 <%d>입니다.' %(a, b, ret1, ret2))"
   ]
  },
  {
   "cell_type": "markdown",
   "metadata": {},
   "source": [
    "#10진수를 16진수로 변환하기"
   ]
  },
  {
   "cell_type": "code",
   "execution_count": 6,
   "metadata": {},
   "outputs": [
    {
     "name": "stdout",
     "output_type": "stream",
     "text": [
      "0x61\n",
      "0x62\n",
      "0x610x62\n",
      "97\n",
      "98\n",
      "195\n",
      "0xc3\n"
     ]
    }
   ],
   "source": [
    "h1=hex(97)\n",
    "h2=hex(98)\n",
    "ret1=h1 + h2\n",
    "print(h1)\n",
    "print(h2)\n",
    "print(ret1)\n",
    "\n",
    "a=int(h1, 16)\n",
    "b=int(h2, 16)\n",
    "\n",
    "ret2=a+b\n",
    "print(a)\n",
    "print(b)\n",
    "print(ret2)\n",
    "print(hex(ret2))"
   ]
  },
  {
   "cell_type": "markdown",
   "metadata": {},
   "source": [
    "# 10진수를 2진수로 변환하기"
   ]
  },
  {
   "cell_type": "code",
   "execution_count": 7,
   "metadata": {},
   "outputs": [
    {
     "name": "stdout",
     "output_type": "stream",
     "text": [
      "0b1100001\n",
      "0b1100010\n",
      "0b11000010b1100010\n",
      "97\n",
      "98\n",
      "195\n",
      "0b11000011\n"
     ]
    }
   ],
   "source": [
    "b1=bin(97)\n",
    "b2=bin(98)\n",
    "ret1 = b1 + b2\n",
    "print(b1)\n",
    "print(b2)\n",
    "print(ret1)\n",
    "\n",
    "a=int(b1, 2)\n",
    "b=int(b2, 2)\n",
    "ret2=a+b\n",
    "print(a)\n",
    "print(b)\n",
    "print(ret2)\n",
    "print(bin(ret2))"
   ]
  },
  {
   "cell_type": "markdown",
   "metadata": {},
   "source": [
    "# 2진수, 16진수를 10진수로 변환하기"
   ]
  },
  {
   "cell_type": "code",
   "execution_count": 8,
   "metadata": {},
   "outputs": [
    {
     "name": "stdout",
     "output_type": "stream",
     "text": [
      "240\n",
      "240\n",
      "240\n",
      "240\n",
      "240\n",
      "240\n"
     ]
    }
   ],
   "source": [
    "bnum=0b11110000; bstr='0b11110000'\n",
    "onum=0o360; ostr='0o360'\n",
    "hnum=0xf0; hstr='0xf0'\n",
    "b1=int(bnum); b2=int(bstr, 2)\n",
    "o1=int(onum); o2=int(ostr, 8)\n",
    "h1=int(hnum); h2=int(hstr, 16)\n",
    "print(b1); print(b2)\n",
    "print(o1); print(o2)\n",
    "print(h1); print(h2)"
   ]
  },
  {
   "cell_type": "markdown",
   "metadata": {},
   "source": [
    "# 정수 리스트에서 소수만 걸러내기"
   ]
  },
  {
   "cell_type": "code",
   "execution_count": 9,
   "metadata": {},
   "outputs": [
    {
     "name": "stdout",
     "output_type": "stream",
     "text": [
      "[11113, 11119]\n"
     ]
    }
   ],
   "source": [
    "def getPrime(x):\n",
    "    for i in range(2, x-1):\n",
    "        if x%i==0:\n",
    "            break\n",
    "    else:\n",
    "        return x\n",
    "    \n",
    "listdata=[117,119,1113,11113, 11119]\n",
    "ret=filter(getPrime, listdata)\n",
    "print(list(ret))"
   ]
  },
  {
   "cell_type": "markdown",
   "metadata": {},
   "source": [
    "파이썬 내장함수 filter()는 리스트와 같이 반복 가능한 자료에서 특정 조건을 만족하는 값만을 편리하게 추출할 수 있는 방법을 제공한다. \n",
    "filter()의 첫번째 인자는 특정 조건의 값을 추출하는 함수가 입력되며, 두 번째 인자는 리스트와 같은 반복 가능한 자료가 입력된다."
   ]
  },
  {
   "cell_type": "markdown",
   "metadata": {},
   "source": [
    "filter를 안쓰고 구현하면 안되는 걸까요?"
   ]
  },
  {
   "cell_type": "code",
   "execution_count": 11,
   "metadata": {},
   "outputs": [
    {
     "name": "stdout",
     "output_type": "stream",
     "text": [
      "[11113, 11119]\n"
     ]
    }
   ],
   "source": [
    "def getPrime(x):\n",
    "    for i in range(2, x-1):\n",
    "        if x%i==0:\n",
    "            break\n",
    "    else:\n",
    "        return x\n",
    "    \n",
    "listdata=[117,119,1113,11113, 11119]\n",
    "ret=filter(getPrime, listdata)\n",
    "#ret=getPrime(listdata)\n",
    "print(list(ret))"
   ]
  },
  {
   "cell_type": "markdown",
   "metadata": {},
   "source": [
    "# 1바이트에서 하위 4비트 추출하기"
   ]
  },
  {
   "cell_type": "code",
   "execution_count": 12,
   "metadata": {},
   "outputs": [
    {
     "name": "stdout",
     "output_type": "stream",
     "text": [
      "11\n"
     ]
    }
   ],
   "source": [
    "a=107\n",
    "b=a&0x0f\n",
    "print(b)"
   ]
  },
  {
   "cell_type": "markdown",
   "metadata": {},
   "source": [
    "# 1바이트에서 상화 4비트 추출하기"
   ]
  },
  {
   "cell_type": "code",
   "execution_count": 13,
   "metadata": {},
   "outputs": [
    {
     "name": "stdout",
     "output_type": "stream",
     "text": [
      "6\n"
     ]
    }
   ],
   "source": [
    "a=107\n",
    "b=(a>>4) & 0x0f\n",
    "print(b)"
   ]
  },
  {
   "cell_type": "markdown",
   "metadata": {},
   "source": [
    "# 문자열에서 특정 위치의 문자 얻기"
   ]
  },
  {
   "cell_type": "code",
   "execution_count": 14,
   "metadata": {},
   "outputs": [
    {
     "name": "stdout",
     "output_type": "stream",
     "text": [
      "e\n",
      "라\n"
     ]
    }
   ],
   "source": [
    "txt1='A tale that was not right'\n",
    "txt2='이 또한 지나기리라.'\n",
    "print(txt1[5])\n",
    "print(txt2[-2])"
   ]
  },
  {
   "cell_type": "markdown",
   "metadata": {},
   "source": [
    "# 문자열에서 지정한 구간의 문자열 얻기"
   ]
  },
  {
   "cell_type": "code",
   "execution_count": 15,
   "metadata": {},
   "outputs": [
    {
     "name": "stdout",
     "output_type": "stream",
     "text": [
      "ale \n",
      "A tale\n",
      "기리라.\n"
     ]
    }
   ],
   "source": [
    "txt1='A tale that was not right'\n",
    "txt2='이 또한 지나기리라.'\n",
    "print(txt1[3:7])\n",
    "print(txt1[:6])\n",
    "print(txt2[-4:])\n"
   ]
  },
  {
   "cell_type": "markdown",
   "metadata": {},
   "source": [
    "# 문자열에서 홀수 번째 문자만 추출하기"
   ]
  },
  {
   "cell_type": "code",
   "execution_count": 16,
   "metadata": {},
   "outputs": [
    {
     "name": "stdout",
     "output_type": "stream",
     "text": [
      "abcdefghijk\n"
     ]
    }
   ],
   "source": [
    "txt='aAbBcCdDeEfFgGhHiIjJkK'\n",
    "ret=txt[::2]\n",
    "print(ret)"
   ]
  },
  {
   "cell_type": "markdown",
   "metadata": {},
   "source": [
    "# 문자열을 거꾸로 만들기"
   ]
  },
  {
   "cell_type": "code",
   "execution_count": 17,
   "metadata": {},
   "outputs": [
    {
     "name": "stdout",
     "output_type": "stream",
     "text": [
      "lkjihgfedcba\n"
     ]
    }
   ],
   "source": [
    "txt='abcdefghijkl'\n",
    "ret=txt[::-1]\n",
    "print(ret)"
   ]
  },
  {
   "cell_type": "markdown",
   "metadata": {},
   "source": [
    "# 문자열에서 특정 문자가 / 문자열이 있는지 확인하기(in)"
   ]
  },
  {
   "cell_type": "code",
   "execution_count": 19,
   "metadata": {},
   "outputs": [
    {
     "name": "stdout",
     "output_type": "stream",
     "text": [
      "임의의 문장을 입력하세요.bcadefg\n",
      "당신이 입력한 문장에는 a가 있습니다.\n"
     ]
    }
   ],
   "source": [
    "msg = input('임의의 문장을 입력하세요.')\n",
    "if 'a' in msg:\n",
    "    print('당신이 입력한 문장에는 a가 있습니다.')\n",
    "else:\n",
    "    print('당신이 입력한 문장에는 a가 없습니다.')\n",
    "    "
   ]
  },
  {
   "cell_type": "code",
   "execution_count": 22,
   "metadata": {},
   "outputs": [
    {
     "name": "stdout",
     "output_type": "stream",
     "text": [
      "임의의 문장을 입력하세요.this is a note\n",
      "당신이 입력한 문장에는 is가 있습니다.\n"
     ]
    }
   ],
   "source": [
    "msg = input('임의의 문장을 입력하세요.')\n",
    "if 'is' in msg:\n",
    "    print('당신이 입력한 문장에는 is가 있습니다.')\n",
    "else:\n",
    "    print('당신이 입력한 문장에는 is가 없습니다.')\n",
    "    "
   ]
  },
  {
   "cell_type": "markdown",
   "metadata": {},
   "source": [
    "# 문자열 길이 구하기"
   ]
  },
  {
   "cell_type": "code",
   "execution_count": 26,
   "metadata": {},
   "outputs": [
    {
     "name": "stdout",
     "output_type": "stream",
     "text": [
      "임의의 문장을 입력하세요.안녕하세요.\n",
      "당신이 입력한 문장의 길이는 6 입니다.\n",
      "당신이 입력한 문장의 길이는 16 입니다.\n"
     ]
    }
   ],
   "source": [
    "msg=input('임의의 문장을 입력하세요.')\n",
    "msglen = len(msg)\n",
    "msglen_encode=len(msg.encode())\n",
    "print('당신이 입력한 문장의 길이는 %d 입니다.'%msglen)\n",
    "print('당신이 입력한 문장의 길이는 %d 입니다.'%msglen_encode)"
   ]
  },
  {
   "cell_type": "markdown",
   "metadata": {},
   "source": [
    "# 문자열이 알파벳인지 검사하기(isalpha)"
   ]
  },
  {
   "cell_type": "code",
   "execution_count": 28,
   "metadata": {},
   "outputs": [
    {
     "name": "stdout",
     "output_type": "stream",
     "text": [
      "True\n",
      "True\n",
      "False\n",
      "False\n"
     ]
    }
   ],
   "source": [
    "txt1='A'\n",
    "txt2='안녕'\n",
    "txt3='Warcraft Three'\n",
    "txt4='3PO'\n",
    "ret1=txt1.isalpha()\n",
    "ret2=txt2.isalpha()\n",
    "ret3=txt3.isalpha()\n",
    "ret4=txt4.isalpha()\n",
    "print(ret1)\n",
    "print(ret2)\n",
    "print(ret3)\n",
    "print(ret4)"
   ]
  },
  {
   "cell_type": "markdown",
   "metadata": {},
   "source": [
    "알파벳, 한글 등 언어 문자이면 True\n",
    "공백, 숫자 등 언어 문자가 아닌게 있으면 False를 반납합니다."
   ]
  },
  {
   "cell_type": "code",
   "execution_count": null,
   "metadata": {},
   "outputs": [],
   "source": []
  }
 ],
 "metadata": {
  "kernelspec": {
   "display_name": "Python 3",
   "language": "python",
   "name": "python3"
  },
  "language_info": {
   "codemirror_mode": {
    "name": "ipython",
    "version": 3
   },
   "file_extension": ".py",
   "mimetype": "text/x-python",
   "name": "python",
   "nbconvert_exporter": "python",
   "pygments_lexer": "ipython3",
   "version": "3.8.5"
  }
 },
 "nbformat": 4,
 "nbformat_minor": 4
}
